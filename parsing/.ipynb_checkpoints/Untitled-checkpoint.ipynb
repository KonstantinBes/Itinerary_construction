{
 "cells": [
  {
   "cell_type": "code",
   "execution_count": 2,
   "metadata": {},
   "outputs": [
    {
     "name": "stdout",
     "output_type": "stream",
     "text": [
      "Number of events in  spb\n",
      "54126\n"
     ]
    }
   ],
   "source": [
    "\n",
    "import json\n",
    "from json.decoder import JSONDecodeError\n",
    "\n",
    "\n",
    "\"\"\"'get_data' input: url of API KudaGo page to parce\"\"\"\n",
    "\"\"\"'get_data' output: data from url in 'dict' type\"\"\"\n",
    "\n",
    "location = \"spb\"    # Choose city here (spb, msk, ...)\n",
    "\n",
    "directory = \"D:\\\\Work\\\\Data_files\\\\working_dir\\\\\"\n",
    "in_file = \"events_2_expand_\" + location\n",
    "\n",
    "with open (directory + in_file + \".json\",\n",
    "           'r', encoding = \"utf-8\") as inf:\n",
    "    events_list = json.load(inf)\n",
    "    print(\"Number of events in \", location)\n",
    "    print(len(events_list))"
   ]
  },
  {
   "cell_type": "code",
   "execution_count": null,
   "metadata": {},
   "outputs": [],
   "source": []
  }
 ],
 "metadata": {
  "kernelspec": {
   "display_name": "Python 3",
   "language": "python",
   "name": "python3"
  },
  "language_info": {
   "codemirror_mode": {
    "name": "ipython",
    "version": 3
   },
   "file_extension": ".py",
   "mimetype": "text/x-python",
   "name": "python",
   "nbconvert_exporter": "python",
   "pygments_lexer": "ipython3",
   "version": "3.7.1"
  }
 },
 "nbformat": 4,
 "nbformat_minor": 4
}

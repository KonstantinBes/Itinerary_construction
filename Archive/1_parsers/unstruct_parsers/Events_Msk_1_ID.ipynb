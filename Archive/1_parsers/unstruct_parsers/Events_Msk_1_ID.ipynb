{
 "cells": [
  {
   "cell_type": "code",
   "execution_count": 4,
   "metadata": {},
   "outputs": [
    {
     "name": "stdout",
     "output_type": "stream",
     "text": [
      "https://kudago.com/public-api/v1.4/events/?lang=en&fields=id,publication_date,dates,title&location=msk&order_by=id&page_size=100&page=\n"
     ]
    },
    {
     "ename": "NameError",
     "evalue": "name 'page_data' is not defined",
     "output_type": "error",
     "traceback": [
      "\u001b[1;31m---------------------------------------------------------------------------\u001b[0m",
      "\u001b[1;31mNameError\u001b[0m                                 Traceback (most recent call last)",
      "\u001b[1;32m<ipython-input-4-0e4779035331>\u001b[0m in \u001b[0;36m<module>\u001b[1;34m\u001b[0m\n\u001b[0;32m     40\u001b[0m with open ('A:\\Information\\Kostya\\Master\\Science\\Events_msk_1_ID.json',\n\u001b[0;32m     41\u001b[0m            'w', encoding=\"utf-8\") as ouf:\n\u001b[1;32m---> 42\u001b[1;33m     \u001b[1;32mwhile\u001b[0m \u001b[1;33m(\u001b[0m\u001b[0mpage_data\u001b[0m\u001b[1;33m!=\u001b[0m\u001b[1;32mNone\u001b[0m\u001b[1;33m)\u001b[0m\u001b[1;33m:\u001b[0m\u001b[1;33m\u001b[0m\u001b[1;33m\u001b[0m\u001b[0m\n\u001b[0m\u001b[0;32m     43\u001b[0m         \u001b[0mpage_data\u001b[0m \u001b[1;33m=\u001b[0m \u001b[0mget_data\u001b[0m\u001b[1;33m(\u001b[0m\u001b[0murl_full\u001b[0m\u001b[1;33m+\u001b[0m\u001b[0mstr\u001b[0m\u001b[1;33m(\u001b[0m\u001b[0mstart_page\u001b[0m\u001b[1;33m)\u001b[0m\u001b[1;33m)\u001b[0m\u001b[1;33m\u001b[0m\u001b[1;33m\u001b[0m\u001b[0m\n\u001b[0;32m     44\u001b[0m         \u001b[1;32mif\u001b[0m\u001b[1;33m(\u001b[0m\u001b[0mtype\u001b[0m\u001b[1;33m(\u001b[0m\u001b[0mpage_data\u001b[0m\u001b[1;33m)\u001b[0m\u001b[1;33m!=\u001b[0m\u001b[0mstr\u001b[0m\u001b[1;33m)\u001b[0m\u001b[1;33m:\u001b[0m\u001b[1;33m\u001b[0m\u001b[1;33m\u001b[0m\u001b[0m\n",
      "\u001b[1;31mNameError\u001b[0m: name 'page_data' is not defined"
     ]
    }
   ],
   "source": [
    "\"\"\"Parser API KudaGo. Full list of events ID`s in Moskow.\"\"\"\n",
    "\"\"\"Input: site`s API url. Output: .json file with class 'list':\"\"\"\n",
    "\"\"\"[{'id':...,'title':...,'slug':...}, {EVENT_2},...}]\"\"\"\n",
    "\n",
    "\n",
    "from urllib.request import urlopen\n",
    "from urllib.error import HTTPError\n",
    "from bs4 import BeautifulSoup\n",
    "import json\n",
    "\n",
    "\n",
    "url_base = \"https://kudago.com/public-api/v1.4/events/?lang=en\"\n",
    "url_fields = \"&fields=id,publication_date,dates,title\"\n",
    "url_location = \"&location=msk\"\n",
    "url_pages = \"&order_by=id&page_size=100&page=\"\n",
    "url_full = url_base + url_fields + url_location + url_pages\n",
    "print(url_full)\n",
    "start_page = 1    # max_pages: ?\n",
    "\n",
    "\"\"\"Shows place in page where actual query result begins:\"\"\"\n",
    "list_indicator = '\"results\":['\n",
    "\n",
    "\n",
    "def get_data(url):\n",
    "    try:\n",
    "        html = urlopen(url)\n",
    "    except HTTPError as e:\n",
    "        return e\n",
    "    try:\n",
    "        data = str(BeautifulSoup(html.read()))\n",
    "    except AttributeError as e:\n",
    "        return None\n",
    "    return data\n",
    "\n",
    "\n",
    "page_data = ''\n",
    "structured_data = []\n",
    "failed_objects = ''\n",
    "temp_data = ''\n",
    "temp_obj = {}\n",
    "\n",
    "with open ('A:\\Information\\Kostya\\Master\\Science\\Events_msk_1_ID.json',\n",
    "           'w', encoding=\"utf-8\") as ouf:\n",
    "    while (page_data!=None):\n",
    "        page_data = get_data(url_full + str(start_page))\n",
    "        if(type(page_data) != str):\n",
    "            break\n",
    "        try:\n",
    "            structured_data += json.loads(page_data[page_data.find(list_indicator)+10:-1])\n",
    "            print(type(data[-1]), page)\n",
    "            print(data[-1][\"id\"])\n",
    "        except:\n",
    "            print(\"Page error\")\n",
    "            temp_data = page_data[page_data.find('\"results\":[')+11:-1]\n",
    "            #print(temp_data)\n",
    "            while(temp_data.find('\"id\"')!=-1):\n",
    "                try:\n",
    "                    if(temp_data.find('},{\"id\"')!=-1):\n",
    "                        temp_obj = temp_data[temp_data.find('{\"id\"'):temp_data.find('},{\"id\"')+1]    #! Magic constant\n",
    "                    else:\n",
    "                        temp_obj = temp_data[temp_data.find('{\"id\"'):-1]\n",
    "                    #print(temp_data)\n",
    "                    #print('\\n')\n",
    "                    #print(temp_obj)\n",
    "                    temp_data = temp_data[temp_data.find('{\"id\"')+len(temp_obj)+1:]\n",
    "                    data.append(json.loads(temp_obj))\n",
    "                    print(type(data[-1]), data[-1][\"id\"])\n",
    "                    #print('\\n\\n')\n",
    "                except:\n",
    "                    print(\"Obj error:\\n\")\n",
    "                    failed_objects+=temp_obj\n",
    "                    failed_objects+='SEPARATION_LINE'\n",
    "        page+=1\n",
    "    category_sorted=sorted(data, key=lambda x: x['categories'][0])\n",
    "    json.dump(category_sorted, ouf)"
   ]
  },
  {
   "cell_type": "code",
   "execution_count": null,
   "metadata": {},
   "outputs": [],
   "source": []
  }
 ],
 "metadata": {
  "kernelspec": {
   "display_name": "Python 3",
   "language": "python",
   "name": "python3"
  },
  "language_info": {
   "codemirror_mode": {
    "name": "ipython",
    "version": 3
   },
   "file_extension": ".py",
   "mimetype": "text/x-python",
   "name": "python",
   "nbconvert_exporter": "python",
   "pygments_lexer": "ipython3",
   "version": "3.7.1"
  }
 },
 "nbformat": 4,
 "nbformat_minor": 2
}

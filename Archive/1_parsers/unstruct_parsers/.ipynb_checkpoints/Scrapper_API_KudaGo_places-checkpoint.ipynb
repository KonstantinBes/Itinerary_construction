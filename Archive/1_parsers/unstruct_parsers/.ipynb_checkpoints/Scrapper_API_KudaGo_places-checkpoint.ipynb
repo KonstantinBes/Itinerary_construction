{
 "cells": [
  {
   "cell_type": "code",
   "execution_count": 7,
   "metadata": {},
   "outputs": [
    {
     "name": "stdout",
     "output_type": "stream",
     "text": [
      "<class 'list'> {'id': 3875, 'title': 'школа музыкального перформанса Musical Wave', 'slug': 'shkola-musical-wave', 'address': 'наб. Садовническая, д. 25', 'timetable': 'ежедневно 10:00–22:00', 'phone': '+7 495 374-69-87', 'is_stub': False, 'body_text': 'Школа Musical Wave открывает для учеников бескрайний мир музыкального перформанса. Здесь студенты становятся артистами с яркой индивидуальностью. Также в школе обучают тому, как создавать личный бренд и работать над его развитием.\\n\\nВ команде педагогов — действуюшие музыканты. Программа обучения объединяет ведущие мировые методики, что предоставляет студентам максимум теоретических знаний и практических навыков.\\n\\nMusical Wave — одна из крупнейших музыкальных школ столицы — располагает собственной концертной площадкой и современным оборудованием. Учитесь играть на музыкальных инструментах, посещайте мастер-классы музыкантов из США и Европы, формируйте портфолио с фотографиями и видеозаписями собственных выступлений, узнавайте всё о звукозаписи, диджеинге, звукорежиссуре и многом другом.\\n\\nЗаписаться на занятия вы можете на сайте.', 'description': 'Тем, кто в равной степени хочет виртуозно играть на музыкальном инструменте и выступать на публике, кто всю жизнь мечтал выразить себя в звуке, определённо стоит записаться в школу Musical Wave. Здесь делятся секретами успеха!', 'site_url': 'https://kudago.com/msk/place/shkola-musical-wave/', 'foreign_url': 'http://www.musicalwave-school.ru/', 'coords': {'lat': 55.74567305339348, 'lon': 37.63410492816873}, 'subway': 'Новокузнецкая, Третьяковская', 'favorites_count': 14, 'images': [{'image': 'https://kudago.com/media/images/place/0a/dc/0adc3ce7af3bc7b31b041d24dad17fcb.jpg', 'source': {'name': '', 'link': ''}}, {'image': 'https://kudago.com/media/images/place/a0/1f/a01f27e97d7dcc87fff310c3dffe9863.jpg', 'source': {'name': '', 'link': ''}}, {'image': 'https://kudago.com/media/images/place/2e/8d/2e8d9d69917d7a9e5951c5395cacf973.jpg', 'source': {'name': '', 'link': ''}}, {'image': 'https://kudago.com/media/images/place/a8/87/a8878fe1a7ea7c0780a1a3c6b1a0647d.jpg', 'source': {'name': '', 'link': ''}}, {'image': 'https://kudago.com/media/images/place/6b/42/6b42632b0c29c8d9afd674a94e3db8a3.jpg', 'source': {'name': '', 'link': ''}}, {'image': 'https://kudago.com/media/images/place/ab/0e/ab0eb211534a629e6eac6c34e01dc096.jpg', 'source': {'name': '', 'link': ''}}, {'image': 'https://kudago.com/media/images/place/bc/c5/bcc5affdbbe297b0d5620551cd36a9b8.jpg', 'source': {'name': '', 'link': ''}}, {'image': 'https://kudago.com/media/images/place/5a/1d/5a1ddbd11588a01f66da4c3b5edd5165.jpg', 'source': {'name': '', 'link': ''}}, {'image': 'https://kudago.com/media/images/place/ef/4d/ef4ddef82361d90a6196fbdd80c58ba9.jpg', 'source': {'name': '', 'link': ''}}, {'image': 'https://kudago.com/media/images/place/db/df/dbdf0bb912fa044d18df78bcfaa18879.jpg', 'source': {'name': '', 'link': ''}}], 'comments_count': 0, 'is_closed': False, 'categories': ['academy-of-music', 'education-centers'], 'short_title': 'Musical Wave', 'tags': ['лучшее', 'учебные заведения', 'культура и искусство', 'музыкальные школы (учебн завед)', 'музыка', 'другое'], 'location': 'msk'} {'id': 5475, 'title': 'Двор-зоопарк', 'slug': 'dvor-zoopark', 'address': 'ул. Макаренко, 6', 'timetable': '', 'phone': '', 'is_stub': False, 'body_text': 'Частный зоопарк, для размещения которого используется обычный двор жилого дома, находится на Чистых прудах. Имя жильца со второго этажа, которому принадлежит живность, неизвестно.\\n\\nОбойдя дом, вы встретите вольер с голубями. Не теми, которых все привыкли видеть на улицах, а особенными — хохлатыми. В соседнем вольере живет цесарка, а поодаль еще два вольера с лебедями, черными и белыми. Охраняют птичник сразу несколько кошек. Кроме того, в этом дворе, утопающем в зелени, стоит стол для пинг-понга, раскрашенные деревянные скульптуры, лавочки и качели.', 'description': 'Чего только не встретишь в столице нашей родины. Отдельного упоминания заслуживают московские дворы — такие разные, но всегда интересные. В одном из них можно обнаружить целый зоопарк.', 'site_url': 'https://kudago.com/msk/place/dvor-zoopark/', 'foreign_url': '', 'coords': {'lat': 55.76152799999996, 'lon': 37.64797099999998}, 'subway': 'Чистые пруды', 'favorites_count': 58, 'images': [{'image': 'https://kudago.com/media/images/place/b1/df/b1df982765264920fd80cf52186e3b94.jpg', 'source': {'name': '2do2go.ru', 'link': 'http://www.2do2go.ru/msk/places/posmotret/zooparki'}}, {'image': 'https://kudago.com/media/images/place/ba/31/ba312554c6dff6a82192f6976eadc5cd.jpg', 'source': {'name': 'московский-клуб-голубеводов.рф', 'link': 'http://xn-----blcbbeafli1amkbdqdg2bbkeb6cd2df.xn--p1ai/?p=881'}}], 'comments_count': 0, 'is_closed': False, 'categories': ['zoo', 'yard'], 'short_title': '', 'tags': ['дворы (интересные места)', 'животные и птицы', 'зоопарки', 'дворы', 'зоопарки (развлечения)'], 'location': 'msk'} 4768\n"
     ]
    }
   ],
   "source": [
    "\"\"\"Parser API KudaGo. Full list of places in city (spb,msk,...).\"\"\"\n",
    "\"\"\"Input: site`s API url. Output: .json file with class 'list' sorted by category[0]:\"\"\"\n",
    "\"\"\"[{'id':...,'name':...,'categories':[...]},...]\"\"\"\n",
    "\n",
    "\n",
    "from urllib.request import urlopen\n",
    "from urllib.error import HTTPError\n",
    "from bs4 import BeautifulSoup\n",
    "import json\n",
    "\n",
    "\n",
    "url_base=\"https://kudago.com/public-api/v1.4/places/?\"\n",
    "url_fields=\"&fields=id,title,short_title,slug,address,location,timetable,phone,is_stub,images,description,body_text,site_url,foreign_url,coords,subway,favorites_count,comments_count,is_closed,categories,tags\"\n",
    "url_location=\"&location=msk\"\n",
    "url_text_form=\"&text_format=text\"\n",
    "url_pages=\"&page_size=20&page=\"\n",
    "url_full=url_base+url_fields+url_location+url_text_form+url_pages\n",
    "page=1\n",
    "# max_pages: spb=189, msk=239 found manually for page_size=20\n",
    "\n",
    "\n",
    "def get_data(url):\n",
    "    try:\n",
    "        html = urlopen(url)\n",
    "    except HTTPError as e:\n",
    "        return e\n",
    "    try:\n",
    "        data = str(BeautifulSoup(html.read()))\n",
    "    except AttributeError as e:\n",
    "        return None\n",
    "    return data\n",
    "\n",
    "\n",
    "page_data=''\n",
    "data=''\n",
    "with open ('A:\\Information\\Kostya\\Master\\Science\\Places_msk.json',\n",
    "           'w', encoding=\"utf-8\") as ouf:\n",
    "    while (page_data!=None):\n",
    "        page_data = get_data(url_full+str(page))\n",
    "        if(type(page_data)!=str):\n",
    "            break\n",
    "        if page ==1:\n",
    "            data=json.loads(page_data[page_data.find('['):-1:1])\n",
    "            print(type(data[-1]), page)\n",
    "        else:\n",
    "            data+=json.loads(page_data[page_data.find('['):-1:1])\n",
    "            print(type(data[-1]), page)\n",
    "        page+=1\n",
    "    category_sorted=sorted(data, key=lambda x: x['categories'][0])\n",
    "    json.dump(category_sorted, ouf)\n",
    "    print(page)\n",
    "with open ('A:\\Information\\Kostya\\Master\\Science\\Places_msk.json',\n",
    "           'r', encoding=\"utf-8\") as inf:\n",
    "    data=json.load(inf)\n",
    "    print(type(data), data[0], data[-1], len(data))"
   ]
  },
  {
   "cell_type": "code",
   "execution_count": null,
   "metadata": {},
   "outputs": [],
   "source": []
  }
 ],
 "metadata": {
  "kernelspec": {
   "display_name": "Python 3",
   "language": "python",
   "name": "python3"
  },
  "language_info": {
   "codemirror_mode": {
    "name": "ipython",
    "version": 3
   },
   "file_extension": ".py",
   "mimetype": "text/x-python",
   "name": "python",
   "nbconvert_exporter": "python",
   "pygments_lexer": "ipython3",
   "version": "3.7.3"
  }
 },
 "nbformat": 4,
 "nbformat_minor": 2
}

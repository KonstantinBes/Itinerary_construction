{
 "cells": [
  {
   "cell_type": "code",
   "execution_count": 2,
   "metadata": {},
   "outputs": [
    {
     "name": "stdout",
     "output_type": "stream",
     "text": [
      "100 {'id': 31189, 'title': 'школа рисования для взрослых «Творческая мастерская „Картина маслом“»', 'category': 'amusement', 'latitude': 59.929118, 'longitude': 30.325049}\n",
      "200 {'id': 32021, 'title': 'креативное пространство «Дом Культуры»', 'category': 'art-centers', 'latitude': 59.87848799999991, 'longitude': 30.26240999999973}\n",
      "300 {'id': 12439, 'title': 'церковь Рождества святого Иоанна Предтечи (Чесменская)', 'category': 'attractions', 'latitude': 59.85694455263097, 'longitude': 30.33090233380872}\n",
      "400 {'id': 6879, 'title': 'каньон реки Лавы', 'category': 'attractions', 'latitude': 59.87784725906087, 'longitude': 31.58629416979387}\n",
      "500 {'id': 24311, 'title': 'бар «Пробирочная»', 'category': 'bar', 'latitude': 59.93629599999997, 'longitude': 30.361997}\n",
      "600 {'id': 14246, 'title': 'пляжи Суздальских озер', 'category': 'beaches', 'latitude': 60.05434246485112, 'longitude': 30.2990859704822}\n",
      "700 {'id': 32717, 'title': 'wellness-bar All Greens', 'category': 'cafe', 'latitude': 59.95691390000002, 'longitude': 30.29179359999957}\n",
      "800 {'id': 16091, 'title': 'кафе  «Чак-чак»', 'category': 'cafe', 'latitude': 59.95689499999998, 'longitude': 30.33143599999999}\n",
      "900 {'id': 9942, 'title': 'кемпинг «Приют Белоснежки»', 'category': 'campings', 'latitude': 59.32460794933231, 'longitude': 29.07523154808641}\n",
      "1000 {'id': 11406, 'title': 'подростково-молодежный клуб «Спасатель»', 'category': 'climbing-walls', 'latitude': 60.03741799999999, 'longitude': 30.430448}\n",
      "1100 {'id': 2161, 'title': 'Санкт-Петербургская академическая филармония им. Д. Шостаковича (малый зал)', 'category': 'concert-hall', 'latitude': 59.93539899999996, 'longitude': 30.32786999999999}\n",
      "1200 {'id': 30584, 'title': 'кулинарная мастерская Александра Князева', 'category': 'education-centers', 'latitude': 59.956741, 'longitude': 30.293958}\n",
      "1300 {'id': 11156, 'title': 'wellness-центр «Формула энергии»', 'category': 'fitness', 'latitude': 59.96488599999995, 'longitude': 30.350121}\n",
      "1400 {'id': 11038, 'title': 'BADANDBIKE Hostel', 'category': 'hostels', 'latitude': 59.92818999999997, 'longitude': 30.32088099999999}\n",
      "1500 {'id': 4497, 'title': 'усадебный дом Н. Н. Муравьева', 'category': 'houses', 'latitude': 59.91331599999998, 'longitude': 30.35767599999998}\n",
      "1600 {'id': 15288, 'title': 'деревня Сваргас', 'category': 'interesting-places', 'latitude': 60.82639179642774, 'longitude': 28.84001254632482}\n",
      "1700 {'id': 24916, 'title': 'картинг Primo', 'category': 'karts', 'latitude': 59.985206, 'longitude': 30.31894}\n",
      "1800 {'id': 10945, 'title': 'детский интерактивный театр «Поляна сказок»', 'category': 'kids', 'latitude': 59.96297999999999, 'longitude': 30.348136}\n",
      "1900 {'id': 12080, 'title': 'центр раннего развития «Изюминка»', 'category': 'kids', 'latitude': 60.02682399999998, 'longitude': 30.22305400000001}\n",
      "2000 {'id': 12174, 'title': 'творческая мастерская «Академия странствий»', 'category': 'kids', 'latitude': 59.927955, 'longitude': 30.36965}\n",
      "2100 {'id': 10379, 'title': 'театр «Львенок»', 'category': 'kids', 'latitude': 59.93810116643274, 'longitude': 30.28591632420778}\n",
      "2200 {'id': 13142, 'title': 'комплекс загородного отдыха «Кантри-Клуб»', 'category': 'kottedzhi', 'latitude': 60.21617312728744, 'longitude': 29.84381756742856}\n",
      "2300 {'id': 3009, 'title': 'Станция метро «Крестовский остров»', 'category': 'metro', 'latitude': 59.97166000649494, 'longitude': 30.2599344549575}\n",
      "2400 {'id': 5065, 'title': 'Стела счастливой семьи', 'category': 'monument', 'latitude': 60.00873799999995, 'longitude': 30.39994999999999}\n",
      "2500 {'id': 7282, 'title': 'музей при Императорском фарфоровом заводе', 'category': 'museums', 'latitude': 59.88201699999998, 'longitude': 30.44488399999998}\n",
      "2600 {'id': 1197, 'title': 'Тосненский историко-краеведческий музей', 'category': 'museums', 'latitude': 59.81935899999999, 'longitude': 30.35256399999999}\n",
      "2700 {'id': 32297, 'title': 'творческая студия «Художка»', 'category': 'painting', 'latitude': 59.99797519999984, 'longitude': 30.2182885000002}\n",
      "2800 {'id': 31388, 'title': 'студия аэросъёмки Timelab', 'category': 'photo-places', 'latitude': 59.92313257722544, 'longitude': 30.3996432777345}\n",
      "2900 {'id': 32026, 'title': 'квест «Побег из тюрьмы»', 'category': 'questroom', 'latitude': 59.92339600000013, 'longitude': 30.35282299999981}\n",
      "3000 {'id': 30990, 'title': 'крафтовый ресторан «Безумный MAX»', 'category': 'restaurants', 'latitude': 59.93551942142609, 'longitude': 30.33627887857388}\n",
      "3100 {'id': 32045, 'title': 'Ресторан All Seasons', 'category': 'restaurants', 'latitude': 59.93340410000016, 'longitude': 30.3120554000001}\n",
      "3200 {'id': 16201, 'title': 'ресторан «Винегрет»', 'category': 'restaurants', 'latitude': 59.93798199999997, 'longitude': 30.217143}\n",
      "3300 {'id': 16441, 'title': 'ресторан Bullhouse на Петергофском шоссе', 'category': 'restaurants', 'latitude': 59.84839299999999, 'longitude': 30.140095}\n",
      "3400 {'id': 16099, 'title': 'ресторан «Бергамо» (Bergamo)', 'category': 'restaurants', 'latitude': 59.72133799999998, 'longitude': 30.41594000000001}\n",
      "3500 {'id': 27229, 'title': '«Магазин Добрых Дел»', 'category': 'shops', 'latitude': 60.02214812270929, 'longitude': 30.22510657271592}\n",
      "3600 {'id': 4227, 'title': 'спортивный клуб «Эскалибур»', 'category': 'sport-centers', 'latitude': 59.9074279999999, 'longitude': 30.29292299999971}\n",
      "3700 {'id': 185, 'title': 'Театр «АлеКо»', 'category': 'theatre', 'latitude': 59.84064599999998, 'longitude': 30.339862}\n"
     ]
    }
   ],
   "source": [
    "\"\"\"Dataset for drawing objects on carto.com map\"\"\"\n",
    "\"\"\"List of S-Petersburg's places given by KudaGo.com in certain category\"\"\"\n",
    "\"\"\"Input: full base of places from KudaGo.com (saved as .json).\"\"\"\n",
    "\"\"\"Output: .json file with list of places structured as:\"\"\"\n",
    "\"\"\"[{'id':...,'name':...,'latitude':...,'longitude':...}, {place_2},...]\"\"\"\n",
    "\n",
    "\n",
    "import json\n",
    "\n",
    "\n",
    "#places_category='amusement'    # Place category chosen for mapping\n",
    "\n",
    "\n",
    "data=[]    # Full base of places\n",
    "with open ('A:\\Information\\Kostya\\Master\\Science\\Places_spb.json',\n",
    "           'r', encoding=\"utf-8\") as inf:\n",
    "    data=json.load(inf)\n",
    "\n",
    "out_list=[]    # List of places for mapping\n",
    "for obj in data:\n",
    "    #if(obj['categories'][0]==places_category):\n",
    "    out_list+=[{'id':obj['id'], 'title': obj['title'], 'category': obj['categories'][0],\n",
    "                'latitude': obj['coords']['lat'], 'longitude': obj['coords']['lon']}]\n",
    "with open ('A:\\Information\\Kostya\\Master\\Science\\map_spb_categories'+'.json',\n",
    "           'w', encoding=\"utf-8\") as ouf:\n",
    "    json.dump(out_list, ouf)    \n",
    "\n",
    "\"\"\"Manual control of result (look at the outer list)\"\"\"\n",
    "with open ('A:\\Information\\Kostya\\Master\\Science\\map_spb_categories'+'.json',\n",
    "           'r', encoding=\"utf-8\") as inf:\n",
    "    out_list=json.load(inf)\n",
    "    counter=0\n",
    "    for obj in out_list:\n",
    "        counter+=1\n",
    "        if(counter%100==0):\n",
    "            print(counter, obj)"
   ]
  },
  {
   "cell_type": "code",
   "execution_count": null,
   "metadata": {},
   "outputs": [],
   "source": []
  }
 ],
 "metadata": {
  "kernelspec": {
   "display_name": "Python 3",
   "language": "python",
   "name": "python3"
  },
  "language_info": {
   "codemirror_mode": {
    "name": "ipython",
    "version": 3
   },
   "file_extension": ".py",
   "mimetype": "text/x-python",
   "name": "python",
   "nbconvert_exporter": "python",
   "pygments_lexer": "ipython3",
   "version": "3.7.3"
  }
 },
 "nbformat": 4,
 "nbformat_minor": 2
}

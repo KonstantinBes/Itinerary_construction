{
 "cells": [
  {
   "cell_type": "code",
   "execution_count": 1,
   "metadata": {},
   "outputs": [
    {
     "ename": "ModuleNotFoundError",
     "evalue": "No module named 'bs4'",
     "output_type": "error",
     "traceback": [
      "\u001b[1;31m---------------------------------------------------------------------------\u001b[0m",
      "\u001b[1;31mModuleNotFoundError\u001b[0m                       Traceback (most recent call last)",
      "\u001b[1;32m<ipython-input-1-729c3bfebf21>\u001b[0m in \u001b[0;36m<module>\u001b[1;34m\u001b[0m\n\u001b[0;32m      6\u001b[0m \u001b[1;32mfrom\u001b[0m \u001b[0murllib\u001b[0m\u001b[1;33m.\u001b[0m\u001b[0mrequest\u001b[0m \u001b[1;32mimport\u001b[0m \u001b[0murlopen\u001b[0m\u001b[1;33m\u001b[0m\u001b[1;33m\u001b[0m\u001b[0m\n\u001b[0;32m      7\u001b[0m \u001b[1;32mfrom\u001b[0m \u001b[0murllib\u001b[0m\u001b[1;33m.\u001b[0m\u001b[0merror\u001b[0m \u001b[1;32mimport\u001b[0m \u001b[0mHTTPError\u001b[0m\u001b[1;33m\u001b[0m\u001b[1;33m\u001b[0m\u001b[0m\n\u001b[1;32m----> 8\u001b[1;33m \u001b[1;32mfrom\u001b[0m \u001b[0mbs4\u001b[0m \u001b[1;32mimport\u001b[0m \u001b[0mBeautifulSoup\u001b[0m\u001b[1;33m\u001b[0m\u001b[1;33m\u001b[0m\u001b[0m\n\u001b[0m\u001b[0;32m      9\u001b[0m \u001b[1;32mimport\u001b[0m \u001b[0mjson\u001b[0m\u001b[1;33m\u001b[0m\u001b[1;33m\u001b[0m\u001b[0m\n\u001b[0;32m     10\u001b[0m \u001b[1;33m\u001b[0m\u001b[0m\n",
      "\u001b[1;31mModuleNotFoundError\u001b[0m: No module named 'bs4'"
     ]
    }
   ],
   "source": [
    "\"\"\"Parser API KudaGo. Full list of places in Saint Petersburg.\"\"\"\n",
    "\"\"\"Input: site`s API url. Output: .json file with class 'list':\n",
    "    [{'id':...,'name':...,'categories':[...]},...]\"\"\"\n",
    "\n",
    "\n",
    "from urllib.request import urlopen\n",
    "from urllib.error import HTTPError\n",
    "from bs4 import BeautifulSoup\n",
    "import json\n",
    "\n",
    "\n",
    "url_base = \"https://kudago.com/public-api/v1.4/places/?\"\n",
    "url_fields =\"&fields=id,title,categories\"\n",
    "url_location=\"&location=spb\"\n",
    "url_pages=\"&page_size=100&page=\"\n",
    "url_full=url_base+url_fields+url_location+url_pages\n",
    "page=1\n",
    "max_page_spb=39        # Found manually for: location=spb, page_size=100.\n",
    "\n",
    "\n",
    "def get_data(url):\n",
    "    try:\n",
    "        html = urlopen(url)\n",
    "    except HTTPError as e:\n",
    "        return e\n",
    "    try:\n",
    "        data = str(BeautifulSoup(html.read()))\n",
    "    except AttributeError as e:\n",
    "        return None\n",
    "    return data\n",
    "\n",
    "\n",
    "page_data=''\n",
    "data=''\n",
    "with open ('A:\\Information\\Kostya\\Master\\Science\\Places_spb_list.json',\n",
    "           'w', encoding=\"utf-8\") as ouf:\n",
    "    while (page_data!=None):\n",
    "        page_data = get_data(url_full+str(page))\n",
    "        if(type(page_data)!=str):\n",
    "            break\n",
    "        \"\"\"data=raw_data[raw_data.find('[')+1:-2:1].replace('},{','}\\n{')        # for string representation\n",
    "        for line in data.split('\\n'):\n",
    "            json.dump(json.loads(line), ouf)\"\"\"\n",
    "        if page ==1:\n",
    "            data=json.loads(page_data[page_data.find('['):-1:1])\n",
    "        else:\n",
    "            data+=json.loads(page_data[page_data.find('['):-1:1])\n",
    "        page+=1\n",
    "    category_sorted=sorted(data, key=lambda x: x['categories'][0])\n",
    "    json.dump(category_sorted, ouf)\n",
    "    print(page)\n",
    "\"\"\"with open ('A:\\Information\\Kostya\\Master\\Science\\Places_spb_list.json',\n",
    "           'r', encoding=\"utf-8\") as inf:\n",
    "    data=json.load(inf)\n",
    "    print(type(data), data)\"\"\""
   ]
  },
  {
   "cell_type": "code",
   "execution_count": null,
   "metadata": {},
   "outputs": [],
   "source": []
  }
 ],
 "metadata": {
  "kernelspec": {
   "display_name": "Python 3",
   "language": "python",
   "name": "python3"
  },
  "language_info": {
   "codemirror_mode": {
    "name": "ipython",
    "version": 3
   },
   "file_extension": ".py",
   "mimetype": "text/x-python",
   "name": "python",
   "nbconvert_exporter": "python",
   "pygments_lexer": "ipython3",
   "version": "3.7.1"
  }
 },
 "nbformat": 4,
 "nbformat_minor": 2
}

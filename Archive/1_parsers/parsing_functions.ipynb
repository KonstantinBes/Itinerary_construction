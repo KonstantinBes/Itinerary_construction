{
 "cells": [
  {
   "cell_type": "code",
   "execution_count": null,
   "metadata": {},
   "outputs": [],
   "source": [
    "\"\"\"Set of functions for data parsing, v.1.0, 07_04_2020.\"\"\"\n",
    "\n",
    "\n",
    "from urllib.request import urlopen\n",
    "from urllib.error import HTTPError\n",
    "from bs4 import BeautifulSoup\n",
    "\n",
    "\n",
    "\"\"\"'get_data' input: url to web page with text to parce.\"\"\"\n",
    "\"\"\"'get_data' output: data from url in string type.\"\"\"\n",
    "\n",
    "def get_data(url):\n",
    "    try:\n",
    "        html = urlopen(url)\n",
    "    except HTTPError:\n",
    "        return HTTPError\n",
    "    try:\n",
    "        data = str(BeautifulSoup(html.read()))\n",
    "    except AttributeError:\n",
    "        return AttributeError\n",
    "    return data\n"
   ]
  }
 ],
 "metadata": {
  "kernelspec": {
   "display_name": "Python 3",
   "language": "python",
   "name": "python3"
  },
  "language_info": {
   "codemirror_mode": {
    "name": "ipython",
    "version": 3
   },
   "file_extension": ".py",
   "mimetype": "text/x-python",
   "name": "python",
   "nbconvert_exporter": "python",
   "pygments_lexer": "ipython3",
   "version": "3.7.1"
  }
 },
 "nbformat": 4,
 "nbformat_minor": 4
}

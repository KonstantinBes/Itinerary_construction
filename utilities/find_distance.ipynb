{
 "cells": [
  {
   "cell_type": "code",
   "execution_count": 5,
   "metadata": {},
   "outputs": [
    {
     "name": "stdout",
     "output_type": "stream",
     "text": [
      "{'address': 'St. Petersburg, Isaakiyevskaya Square, 6', 'category': ['Sights & Landmarks'], 'duration': 15, 'foursquare_checkinsCount': None, 'foursquare_rating': None, 'foursquare_ratingVotes': None, 'foursquare_userCount': None, 'instagram_visitorsNumber': None, 'lat': 59.9309, 'lng': 30.309543, 'officialGuide': 1, 'open_hours': {'0': [0, 2400], '1': [0, 2400], '2': [0, 2400], '3': [0, 2400], '4': [0, 2400], '5': [0, 2400], '6': [0, 2400]}, 'title': 'Mariinsky Palace', 'tripAdvisor_link': None, 'tripAdvisor_rating': None, 'tripAdvisor_reviewsNumber': None, 'x': 3374042.892936829, 'y': 8384369.578258312}\n",
      "{'address': 'St. Petersburg, Siny most', 'category': ['Sights & Landmarks'], 'duration': 15, 'foursquare_checkinsCount': None, 'foursquare_rating': None, 'foursquare_ratingVotes': None, 'foursquare_userCount': None, 'instagram_visitorsNumber': None, 'lat': 59.931564, 'lng': 30.308995, 'officialGuide': 1, 'open_hours': {'0': [0, 2400], '1': [0, 2400], '2': [0, 2400], '3': [0, 2400], '4': [0, 2400], '5': [0, 2400], '6': [0, 2400]}, 'title': 'Blue Bridge', 'tripAdvisor_link': None, 'tripAdvisor_rating': None, 'tripAdvisor_reviewsNumber': None, 'x': 3373981.889855874, 'y': 8384517.103963747}\n",
      "{'address': 'St. Petersburg, Isaakiyevskaya Square', 'category': ['Sights & Landmarks'], 'duration': 15, 'foursquare_checkinsCount': None, 'foursquare_rating': None, 'foursquare_ratingVotes': None, 'foursquare_userCount': None, 'instagram_visitorsNumber': None, 'lat': 59.932083, 'lng': 30.308451, 'officialGuide': 1, 'open_hours': {'0': [0, 2400], '1': [0, 2400], '2': [0, 2400], '3': [0, 2400], '4': [0, 2400], '5': [0, 2400], '6': [0, 2400]}, 'title': 'Monument to Nikolay I', 'tripAdvisor_link': None, 'tripAdvisor_rating': None, 'tripAdvisor_reviewsNumber': None, 'x': 3373921.3320528837, 'y': 8384632.416021626}\n",
      "{'address': 'St. Petersburg, Isaakiyevskaya Square', 'category': ['Sights & Landmarks', 'Museums & Libraries'], 'duration': 120, 'foursquare_checkinsCount': 14805.0, 'foursquare_rating': 9.4, 'foursquare_ratingVotes': 1238.0, 'foursquare_userCount': 16254.0, 'instagram_visitorsNumber': 148834.0, 'lat': 59.933013, 'lng': 30.307442, 'officialGuide': 1, 'open_hours': {'1': [1030, 1730], '3': [1030, 1730], '4': [1030, 1730], '5': [1030, 1730], '6': [1030, 1730]}, 'title': \"St.Isaac's Square\", 'tripAdvisor_link': 'https://www.tripadvisor.com/Attraction_Review-g298507-d300132-Reviews-St_Isaac_s_Cathedral_State_Museum_Memorial-St_Petersburg_Northwestern_District.html', 'tripAdvisor_rating': 4.5, 'tripAdvisor_reviewsNumber': 8622.0, 'x': 3373809.0106866737, 'y': 8384839.049077872}\n",
      "{'address': 'St. Petersburg, Konnogvardeysky Boulevard, 2', 'category': ['Sights & Landmarks'], 'duration': 15, 'foursquare_checkinsCount': None, 'foursquare_rating': None, 'foursquare_ratingVotes': None, 'foursquare_userCount': None, 'instagram_visitorsNumber': None, 'lat': 59.933913, 'lng': 30.302351, 'officialGuide': 1, 'open_hours': {'0': [0, 2400], '1': [0, 2400], '2': [0, 2400], '3': [0, 2400], '4': [0, 2400], '5': [0, 2400], '6': [0, 2400]}, 'title': 'Konnogvardeysky Arena', 'tripAdvisor_link': None, 'tripAdvisor_rating': None, 'tripAdvisor_reviewsNumber': None, 'x': 3373242.283159045, 'y': 8385039.022068012}\n",
      "{'address': 'St. Petersburg, Galernaya Street', 'category': ['Sights & Landmarks'], 'duration': 15, 'foursquare_checkinsCount': None, 'foursquare_rating': None, 'foursquare_ratingVotes': None, 'foursquare_userCount': None, 'instagram_visitorsNumber': None, 'lat': 59.935342, 'lng': 30.301577, 'officialGuide': 1, 'open_hours': {'0': [0, 2400], '1': [0, 2400], '2': [0, 2400], '3': [0, 2400], '4': [0, 2400], '5': [0, 2400], '6': [0, 2400]}, 'title': 'Senate and Synod building', 'tripAdvisor_link': None, 'tripAdvisor_rating': None, 'tripAdvisor_reviewsNumber': None, 'x': 3373156.12187317, 'y': 8385356.545885825}\n",
      "{'address': 'St. Petersburg, Zayachy ostrov', 'category': ['Sights & Landmarks', 'Museums & Libraries'], 'duration': 120, 'foursquare_checkinsCount': 63742.0, 'foursquare_rating': 9.5, 'foursquare_ratingVotes': 5957.0, 'foursquare_userCount': 109596.0, 'instagram_visitorsNumber': 60251.0, 'lat': 59.95006, 'lng': 30.315913, 'officialGuide': 1, 'open_hours': {'1': [830, 1930], '2': [830, 1930], '3': [830, 1930], '4': [830, 1930], '5': [830, 1930], '6': [830, 1930], '7': [830, 1930]}, 'title': 'Peter and Paul Fortress', 'tripAdvisor_link': 'https://www.tripadvisor.com/Attraction_Review-g298507-d300830-Reviews-Peter_and_Paul_Fortress_Petropavlovskaya_Krepost-St_Petersburg_Northwestern_Distri.html', 'tripAdvisor_rating': 4.5, 'tripAdvisor_reviewsNumber': 3835.0, 'x': 3374751.9980931818, 'y': 8388627.682023883}\n",
      "{'address': 'St. Petersburg, Universitetskaya emb.,7/9', 'category': ['Sights & Landmarks'], 'duration': 15, 'foursquare_checkinsCount': None, 'foursquare_rating': None, 'foursquare_ratingVotes': None, 'foursquare_userCount': None, 'instagram_visitorsNumber': 968.0, 'lat': 59.940745, 'lng': 30.300148, 'officialGuide': 1, 'open_hours': {'0': [0, 2400], '1': [0, 2400], '2': [0, 2400], '3': [0, 2400], '4': [0, 2400], '5': [0, 2400], '6': [0, 2400]}, 'title': 'The Twelve Collegia', 'tripAdvisor_link': None, 'tripAdvisor_rating': None, 'tripAdvisor_reviewsNumber': None, 'x': 3372997.0463208263, 'y': 8386557.216220158}\n",
      "{'address': 'St. Peterburg, Universitetskaya emb., 11', 'category': ['Sights & Landmarks'], 'duration': 15, 'foursquare_checkinsCount': None, 'foursquare_rating': None, 'foursquare_ratingVotes': None, 'foursquare_userCount': None, 'instagram_visitorsNumber': None, 'lat': 59.939848, 'lng': 30.299501, 'officialGuide': 1, 'open_hours': {'0': [0, 2400], '1': [0, 2400], '2': [0, 2400], '3': [0, 2400], '4': [0, 2400], '5': [0, 2400], '6': [0, 2400]}, 'title': 'Palace of Peter II', 'tripAdvisor_link': None, 'tripAdvisor_rating': None, 'tripAdvisor_reviewsNumber': None, 'x': 3372925.0226102816, 'y': 8386357.868734918}\n",
      "{'address': 'St. Petersburg, Universitetskaya emb., 21', 'category': ['Sights & Landmarks'], 'duration': 15, 'foursquare_checkinsCount': None, 'foursquare_rating': None, 'foursquare_ratingVotes': None, 'foursquare_userCount': None, 'instagram_visitorsNumber': None, 'lat': 59.937026, 'lng': 30.288083, 'officialGuide': 1, 'open_hours': {'0': [0, 2400], '1': [0, 2400], '2': [0, 2400], '3': [0, 2400], '4': [0, 2400], '5': [0, 2400], '6': [0, 2400]}, 'title': \"Trezini's house\", 'tripAdvisor_link': None, 'tripAdvisor_rating': None, 'tripAdvisor_reviewsNumber': None, 'x': 3371653.976664406, 'y': 8385730.748268026}\n",
      "{'address': 'St. Petersburg, Vasilievsky ostrov, 21 liniya, 5', 'category': ['Sights & Landmarks'], 'duration': 15, 'foursquare_checkinsCount': None, 'foursquare_rating': None, 'foursquare_ratingVotes': None, 'foursquare_userCount': None, 'instagram_visitorsNumber': 2604.0, 'lat': 59.930047, 'lng': 30.269039, 'officialGuide': 1, 'open_hours': {'0': [0, 2400], '1': [0, 2400], '2': [0, 2400], '3': [0, 2400], '4': [0, 2400], '5': [0, 2400], '6': [0, 2400]}, 'title': 'Saint Petersburg Mining Institute', 'tripAdvisor_link': None, 'tripAdvisor_rating': None, 'tripAdvisor_reviewsNumber': None, 'x': 3369534.0082817376, 'y': 8384180.065382771}\n",
      "{'address': 'St. Petersburg, Vasilievsky Ostrov, Bolshoi prospekt', 'category': ['Sights & Landmarks'], 'duration': 15, 'foursquare_checkinsCount': None, 'foursquare_rating': None, 'foursquare_ratingVotes': None, 'foursquare_userCount': None, 'instagram_visitorsNumber': None, 'lat': 59.933897, 'lng': 30.265095, 'officialGuide': 1, 'open_hours': {'0': [0, 2400], '1': [0, 2400], '2': [0, 2400], '3': [0, 2400], '4': [0, 2400], '5': [0, 2400], '6': [0, 2400]}, 'title': 'Bolshoy Prospekt of Vasilievsky Island', 'tripAdvisor_link': None, 'tripAdvisor_rating': None, 'tripAdvisor_reviewsNumber': None, 'x': 3369094.9642100492, 'y': 8385035.466945254}\n",
      "{'address': 'St. Petersburg, Nalichnaya ul.', 'category': ['Sights & Landmarks'], 'duration': 15, 'foursquare_checkinsCount': None, 'foursquare_rating': None, 'foursquare_ratingVotes': None, 'foursquare_userCount': None, 'instagram_visitorsNumber': None, 'lat': 59.927408, 'lng': 30.238707, 'officialGuide': 1, 'open_hours': {'0': [0, 2400], '1': [0, 2400], '2': [0, 2400], '3': [0, 2400], '4': [0, 2400], '5': [0, 2400], '6': [0, 2400]}, 'title': 'Nalichnaya Street', 'tripAdvisor_link': None, 'tripAdvisor_rating': None, 'tripAdvisor_reviewsNumber': None, 'x': 3366157.4654869973, 'y': 8383593.783838899}\n",
      "{'address': 'St. Petersburg, Shkiperskiy Protok, 10', 'category': ['Museums & Libraries'], 'duration': 120, 'foursquare_checkinsCount': 975.0, 'foursquare_rating': 8.0, 'foursquare_ratingVotes': 95.0, 'foursquare_userCount': 1297.0, 'instagram_visitorsNumber': None, 'lat': 59.933505, 'lng': 30.232298, 'officialGuide': 1, 'open_hours': {'3': [1100, 1800], '4': [1100, 1800], '5': [1100, 1800], '6': [1100, 1800], '7': [1100, 1800]}, 'title': 'Narodovolets Submarine Museum', 'tripAdvisor_link': None, 'tripAdvisor_rating': None, 'tripAdvisor_reviewsNumber': None, 'x': 3365444.0188705036, 'y': 8384948.366973452}\n",
      "{'address': 'St. Petersburg, Galerny pr., 92', 'category': ['Sights & Landmarks'], 'duration': 15, 'foursquare_checkinsCount': None, 'foursquare_rating': None, 'foursquare_ratingVotes': None, 'foursquare_userCount': None, 'instagram_visitorsNumber': None, 'lat': 59.93778, 'lng': 30.223195, 'officialGuide': 1, 'open_hours': {'0': [0, 2400], '1': [0, 2400], '2': [0, 2400], '3': [0, 2400], '4': [0, 2400], '5': [0, 2400], '6': [0, 2400]}, 'title': 'Galley Harbour', 'tripAdvisor_link': None, 'tripAdvisor_rating': None, 'tripAdvisor_reviewsNumber': None, 'x': 3364430.6775458106, 'y': 8385898.301098877}\n",
      "{'address': 'Saint-Petersburg, Martinova naberezhnaya, 92D', 'category': ['Sights & Landmarks'], 'duration': 15, 'foursquare_checkinsCount': None, 'foursquare_rating': None, 'foursquare_ratingVotes': None, 'foursquare_userCount': None, 'instagram_visitorsNumber': None, 'lat': 59.979471, 'lng': 30.243847, 'officialGuide': 1, 'open_hours': {'0': [0, 2400], '1': [0, 2400], '2': [0, 2400], '3': [0, 2400], '4': [0, 2400], '5': [0, 2400], '6': [0, 2400]}, 'title': 'New English Garden', 'tripAdvisor_link': None, 'tripAdvisor_rating': None, 'tripAdvisor_reviewsNumber': None, 'x': 3366729.647669674, 'y': 8395168.751705052}\n",
      "{'address': 'Saint Petersburg, Primorskiy prospect, 56, 2B', 'category': ['Sights & Landmarks'], 'duration': 15, 'foursquare_checkinsCount': None, 'foursquare_rating': None, 'foursquare_ratingVotes': None, 'foursquare_userCount': None, 'instagram_visitorsNumber': None, 'lat': 59.98, 'lng': 30.237172, 'officialGuide': 1, 'open_hours': {'0': [0, 2400], '1': [0, 2400], '2': [0, 2400], '3': [0, 2400], '4': [0, 2400], '5': [0, 2400], '6': [0, 2400]}, 'title': 'Western spit of the island', 'tripAdvisor_link': None, 'tripAdvisor_rating': None, 'tripAdvisor_reviewsNumber': None, 'x': 3365986.590068631, 'y': 8395286.455628764}\n",
      "{'address': '2 Razvodnaya Street, Peterhof, St. Petersburg 198516, Russia', 'category': ['Sights & Landmarks', 'Nature & Parks'], 'duration': 60, 'foursquare_checkinsCount': 6792.0, 'foursquare_rating': 8.7, 'foursquare_ratingVotes': 419.0, 'foursquare_userCount': 9740.0, 'instagram_visitorsNumber': None, 'lat': 59.8851, 'lng': 29.909107, 'officialGuide': 0, 'open_hours': {'4': [900, 1900], '6': [900, 1900], '5': [900, 2200]}, 'title': 'Grand Palace', 'tripAdvisor_link': 'https://www.tripadvisor.com/Attraction_Review-g1207894-d300086-Reviews-Grand_Palace-Peterhof_Petrodvortsovy_District_St_Petersburg_Northwestern_District.html', 'tripAdvisor_rating': 4.5, 'tripAdvisor_reviewsNumber': 8833.0, 'x': 3329466.561321534, 'y': 8374200.978385705}\n",
      "{'address': 'Yakornaya sq, 1, Kronshtadt, St. Petersburg 197762, Russia', 'category': ['Sights & Landmarks'], 'duration': 15, 'foursquare_checkinsCount': None, 'foursquare_rating': None, 'foursquare_ratingVotes': None, 'foursquare_userCount': None, 'instagram_visitorsNumber': None, 'lat': 59.991894, 'lng': 29.77675, 'officialGuide': 0, 'open_hours': {'0': [0, 2400], '1': [0, 2400], '2': [0, 2400], '3': [0, 2400], '4': [0, 2400], '5': [0, 2400], '6': [0, 2400]}, 'title': 'The Naval Cathedral of Saint Nicholas in Kronstadt', 'tripAdvisor_link': 'https://www.tripadvisor.com/Attraction_Review-g2394587-d2618634-Reviews-The_Naval_Cathedral_of_Saint_Nicholas_in_Kronstadt-Kronshtadt_Kronshtadtsky_Dist.html', 'tripAdvisor_rating': 5.0, 'tripAdvisor_reviewsNumber': 2047.0, 'x': 3314732.6474786093, 'y': 8397933.39930862}\n",
      "{'address': 'Bldg. A Dvortsovyy pr-kt 48, Lomonosov, St. Petersburg 198412, Russia', 'category': ['Museums & Libraries'], 'duration': 120, 'foursquare_checkinsCount': None, 'foursquare_rating': None, 'foursquare_ratingVotes': None, 'foursquare_userCount': None, 'instagram_visitorsNumber': None, 'lat': 59.91558, 'lng': 29.75957, 'officialGuide': 0, 'open_hours': {'0': [900, 1800], '1': [900, 1800], '2': [900, 1800], '3': [900, 1800], '4': [900, 1800]}, 'title': 'Oranienbaum State Museum Reserve', 'tripAdvisor_link': 'https://www.tripadvisor.com/Attraction_Review-g815506-d2615285-Reviews-Oranienbaum_State_Museum_Reserve-Lomonosov_Petrodvortsovy_District_St_Petersburg_.html', 'tripAdvisor_rating': 4.5, 'tripAdvisor_reviewsNumber': 362.0, 'x': 3312820.1786267813, 'y': 8380966.642289783}\n",
      "{'address': 'Primorskoe shosse, d. 411, Repino, St. Petersburg 197738, Russia', 'category': ['Museums & Libraries'], 'duration': 120, 'foursquare_checkinsCount': None, 'foursquare_rating': None, 'foursquare_ratingVotes': None, 'foursquare_userCount': None, 'instagram_visitorsNumber': None, 'lat': 60.15583, 'lng': 29.896753, 'officialGuide': 0, 'open_hours': {'0': [900, 1800], '1': [900, 1800], '2': [900, 1800], '3': [900, 1800], '4': [900, 1800]}, 'title': \"Penates, I. Y. Repin's Estate Museum\", 'tripAdvisor_link': 'https://www.tripadvisor.com/Attraction_Review-g2345830-d2617367-Reviews-Penates_I_Y_Repin_s_Estate_Museum-Repino_Kurortny_District_St_Petersburg_Northwe.html', 'tripAdvisor_rating': 4.5, 'tripAdvisor_reviewsNumber': 181.0, 'x': 3328091.320332275, 'y': 8434513.739684472}\n",
      "{'address': 'Primorskoye Highway, 536, Zelenogorsk, St. Petersburg 197720, Russia', 'category': ['Nature & Parks'], 'duration': 60, 'foursquare_checkinsCount': None, 'foursquare_rating': None, 'foursquare_ratingVotes': None, 'foursquare_userCount': None, 'instagram_visitorsNumber': None, 'lat': 60.19353, 'lng': 29.67109, 'officialGuide': 0, 'open_hours': {'0': [600, 2200], '1': [600, 2200], '2': [600, 2200], '3': [600, 2200], '4': [600, 2200], '5': [600, 2200], '6': [600, 2200]}, 'title': 'Zelenogorsk Recreation Park', 'tripAdvisor_link': 'https://www.tripadvisor.com/Attraction_Review-g2345785-d6502907-Reviews-Zelenogorsk_Recreation_Park-Zelenogorsk_Kurortny_District_St_Petersburg_Northwes.html', 'tripAdvisor_rating': 4.5, 'tripAdvisor_reviewsNumber': 97.0, 'x': 3302970.630081391, 'y': 8442951.827460853}\n"
     ]
    },
    {
     "name": "stdout",
     "output_type": "stream",
     "text": [
      "{'address': 'Molodezhnoye, St. Petersburg, Russia', 'category': ['Nature & Parks'], 'duration': 60, 'foursquare_checkinsCount': None, 'foursquare_rating': None, 'foursquare_ratingVotes': None, 'foursquare_userCount': None, 'instagram_visitorsNumber': None, 'lat': 60.20446, 'lng': 29.52578, 'officialGuide': 0, 'open_hours': {'0': [600, 2200], '1': [600, 2200], '2': [600, 2200], '3': [600, 2200], '4': [600, 2200], '5': [600, 2200], '6': [600, 2200]}, 'title': 'Historical Park Marina Gora', 'tripAdvisor_link': 'https://www.tripadvisor.com/Attraction_Review-g3618978-d8657803-Reviews-Historical_Park_Marina_Gora-Molodezhnoye_Kurortny_District_St_Petersburg_Northwe.html', 'tripAdvisor_rating': 4.5, 'tripAdvisor_reviewsNumber': 6.0, 'x': 3286794.794874221, 'y': 8445400.01364162}\n",
      "{'address': 'Линдуловская дорога 197729, Рощино Россия', 'category': ['Nature & Parks'], 'duration': 60, 'foursquare_checkinsCount': 798.0, 'foursquare_rating': 8.9, 'foursquare_ratingVotes': 58.0, 'foursquare_userCount': 1076.0, 'instagram_visitorsNumber': None, 'lat': 60.2381069715, 'lng': 29.5400905609, 'officialGuide': 0, 'open_hours': {'1': [0, 2400], '2': [0, 2400], '3': [0, 2400], '4': [0, 2400], '5': [0, 2400], '6': [0, 2400], '7': [0, 2400]}, 'title': 'Линдуловская роща', 'tripAdvisor_link': None, 'tripAdvisor_rating': None, 'tripAdvisor_reviewsNumber': None, 'x': 3288387.8392280336, 'y': 8452941.646972785}\n",
      "{'address': 'Россия', 'category': ['Nature & Parks'], 'duration': 60, 'foursquare_checkinsCount': 604.0, 'foursquare_rating': None, 'foursquare_ratingVotes': None, 'foursquare_userCount': 839.0, 'instagram_visitorsNumber': None, 'lat': 60.2500384365, 'lng': 29.4249576746, 'officialGuide': 0, 'open_hours': {'0': [600, 2200], '1': [600, 2200], '2': [600, 2200], '3': [600, 2200], '4': [600, 2200], '5': [600, 2200], '6': [600, 2200]}, 'title': 'Гладышевское озеро', 'tripAdvisor_link': None, 'tripAdvisor_rating': None, 'tripAdvisor_reviewsNumber': None, 'x': 3275571.3049456305, 'y': 8455617.82613982}\n",
      "{'address': 'Россия', 'category': ['Sights & Landmarks'], 'duration': 15, 'foursquare_checkinsCount': 0.0, 'foursquare_rating': None, 'foursquare_ratingVotes': None, 'foursquare_userCount': 0.0, 'instagram_visitorsNumber': None, 'lat': 59.54997, 'lng': 29.484905, 'officialGuide': 0, 'open_hours': {'0': [0, 2400], '1': [0, 2400], '2': [0, 2400], '3': [0, 2400], '4': [0, 2400], '5': [0, 2400], '6': [0, 2400]}, 'title': 'Обелиск 51 минно-торпедному Таллинскому авиаполку В.В.С', 'tripAdvisor_link': None, 'tripAdvisor_rating': None, 'tripAdvisor_reviewsNumber': None, 'x': 3282244.610688046, 'y': 8300218.078277602}\n",
      "Radius of interest for Saint-Petersburg:  64.17768483739339\n",
      "Church? :\n",
      " {'address': 'St. Petersburg, Griboedova canal embankment, 2, lit. b', 'category': ['Sights & Landmarks'], 'duration': 15, 'foursquare_checkinsCount': None, 'foursquare_rating': None, 'foursquare_ratingVotes': None, 'foursquare_userCount': None, 'instagram_visitorsNumber': 88582.0, 'lat': 59.940119, 'lng': 30.328904, 'officialGuide': 1, 'open_hours': {'0': [1030, 1800], '1': [1030, 1800], '2': [1030, 1800], '3': [1030, 1800], '4': [1030, 1800], '5': [1030, 1800], '6': [1030, 1800]}, 'title': 'Church of the Savior on Spilled Blood', 'tripAdvisor_link': 'https://www.tripadvisor.com/Attraction_Review-g298507-d300133-Reviews-Church_of_the_Savior_on_Spilled_Blood-St_Petersburg_Northwestern_District.html', 'tripAdvisor_rating': 5.0, 'tripAdvisor_reviewsNumber': 16800.0, 'x': 3376198.1495980765, 'y': 8386418.0946641965}\n"
     ]
    }
   ],
   "source": [
    "\"\"\"Finds distance between city centers (spb, msk) and\"\"\"\n",
    "\"\"\"the most remote place in FIFA (ITMO) dataset\"\"\"\n",
    "\n",
    "\n",
    "import json\n",
    "from json import JSONDecodeError\n",
    "from geopy import distance\n",
    "\n",
    "\n",
    "\"\"\"Check if object is located within location radius\"\"\"\n",
    "\"\"\"type(obj) == 'dict',  coordinates in field: \"coords\")\"\"\"\n",
    "def dist_between(obj_1, obj_2):\n",
    "    geopoint_1 = (obj_1[\"lat\"], obj_1[\"lng\"])\n",
    "    geopoint_2 = (obj_2[\"lat\"], obj_2[\"lng\"])\n",
    "    dist = distance.distance(geopoint_1,\n",
    "                             geopoint_2).km\n",
    "    return dist\n",
    "\n",
    "spb_center = {\"lat\": 59.9342802, \"lng\": 30.3350986}\n",
    "msk_center = {\"lat\": 55.7522200, \"lng\": 37.6155600}\n",
    "spb_obj_1 = {\"lat\":59.940094, \"lng\":30.328583}\n",
    "\n",
    "\"\"\"In / out directorires:\"\"\"\n",
    "in_dir = \"D:/Work/Data_files/ITMO_datasets/Orienting_problem/\"\n",
    "in_file_1 = \"aggregated-data-st-petersburg\"\n",
    "#in_file_2 = \"Moscow-finalized\"\n",
    "\n",
    "with open(in_dir + in_file_1 + \".json\",\n",
    "           'r', encoding = \"utf-8\") as inf_1:\n",
    "    try:\n",
    "        places = json.load(inf_1)\n",
    "        max_dist = 0\n",
    "        dist_obj_1 = dist_between(spb_obj_1, places[0])\n",
    "        obj_1 = {}\n",
    "        for place in places:\n",
    "            dist = dist_between(spb_center, place)\n",
    "            dist_2 = dist_between(spb_obj_1, place)\n",
    "            if dist > max_dist:\n",
    "                max_dist = dist\n",
    "                print(place)\n",
    "            if dist_2 < dist_obj_1:\n",
    "                dist_obj_1 = dist_2\n",
    "                obj_1 = place\n",
    "        print(\"Radius of interest for Saint-Petersburg: \",\n",
    "             max_dist)\n",
    "        print(\"Church? :\\n\", obj_1)\n",
    "        \"\"\"places = json.load(inf_2)\n",
    "        max_dist = 0\n",
    "        for place in places:\n",
    "            dist = dist_between(msk_center, place)\n",
    "            if dist > max_dist:\n",
    "                max_dist = dist\n",
    "        print(\"Radius of interest for Moscow: \",\n",
    "             max_dist)\"\"\"\n",
    "    except JSONDecodeError:\n",
    "        print(\"Input file cannot be read\")\n"
   ]
  },
  {
   "cell_type": "code",
   "execution_count": null,
   "metadata": {},
   "outputs": [],
   "source": []
  }
 ],
 "metadata": {
  "kernelspec": {
   "display_name": "Python 3",
   "language": "python",
   "name": "python3"
  },
  "language_info": {
   "codemirror_mode": {
    "name": "ipython",
    "version": 3
   },
   "file_extension": ".py",
   "mimetype": "text/x-python",
   "name": "python",
   "nbconvert_exporter": "python",
   "pygments_lexer": "ipython3",
   "version": "3.7.1"
  }
 },
 "nbformat": 4,
 "nbformat_minor": 4
}

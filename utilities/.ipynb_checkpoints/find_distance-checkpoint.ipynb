{
 "cells": [
  {
   "cell_type": "code",
   "execution_count": 3,
   "metadata": {},
   "outputs": [
    {
     "name": "stdout",
     "output_type": "stream",
     "text": [
      "{'additional_categories': ['Religious Center', 'Baptist Church'], 'address': 'Griboyedov Canal Emb., 2A, St. Petersburg 191011, Russia', 'categories': ['Sights & Landmarks'], 'city_brand': ['Venice of the North'], 'duration': 15, 'facebook_checkins': 73614.0, 'facebook_rating': 376.0, 'foursquare_checkinsCount': None, 'foursquare_rating': None, 'foursquare_ratingVotes': None, 'foursquare_userCount': None, 'image': 'https://commons.wikimedia.org/wiki/File:Собор_Воскресения_Христова_1.jpg', 'instagram_title': None, 'instagram_visitorsNumber': 245694.0, 'lat': 59.940094, 'lng': 30.328583, 'open_hours': {'0': [1030, 1800], '1': [1030, 1800], '2': [1030, 1800], '3': [1030, 1800], '4': [1030, 1800], '5': [1030, 1800], '6': [1030, 1800]}, 'title': 'Church of the Savior on Spilled Blood', 'tripAdvisor_rating': 5.0, 'tripAdvisor_reviewsNumber': 17350.0, 'wikipedia_page': 1, 'wikipedia_title': 'Спас на Крови', 'x': 3376162.4160415325, 'y': 8386412.538746054}\n",
      "{'additional_categories': ['History Museum', 'Art Gallery', 'Other', 'Art Museum'], 'address': 'Dvortsovaya Square, 2, St. Petersburg, Russia', 'categories': ['Museums & Libraries'], 'city_brand': ['Alexander Pushkin', 'Venice of the North'], 'duration': 120, 'facebook_checkins': 90240.0, 'facebook_rating': 0.0, 'foursquare_checkinsCount': 75297.0, 'foursquare_rating': 9.3, 'foursquare_ratingVotes': 8656.0, 'foursquare_userCount': 126702.0, 'image': 'https://commons.wikimedia.org/wiki/File:Hermitage_logo.svg', 'instagram_title': None, 'instagram_visitorsNumber': 405100.0, 'lat': 59.940758, 'lng': 30.31482, 'open_hours': {'1': [1030, 1800], '2': [1030, 2100], '3': [1030, 1800], '4': [1030, 2100], '5': [1030, 1800], '6': [1030, 1800]}, 'title': 'State Hermitage Museum and Winter Palace', 'tripAdvisor_rating': 5.0, 'tripAdvisor_reviewsNumber': 20187.0, 'wikipedia_page': 1, 'wikipedia_title': 'Эрмитаж', 'x': 3374630.3258897453, 'y': 8386560.10535379}\n",
      "{'additional_categories': None, 'address': 'Isaakiyevskaya Sq., 4, St. Petersburg 190000, Russia', 'categories': ['Museums & Libraries', 'Sights & Landmarks'], 'city_brand': ['Russian Empire', 'Venice of the North'], 'duration': 120, 'facebook_checkins': None, 'facebook_rating': None, 'foursquare_checkinsCount': None, 'foursquare_rating': None, 'foursquare_ratingVotes': None, 'foursquare_userCount': None, 'image': \"https://commons.wikimedia.org/wiki/File:Saint_Isaac's_Cathedral_in_SPB.jpeg\", 'instagram_title': None, 'instagram_visitorsNumber': None, 'lat': 59.93408, 'lng': 30.30623, 'open_hours': {'1': [1030, 1730], '3': [1030, 1730], '4': [1030, 1730], '5': [1030, 1730], '6': [1030, 1730]}, 'title': \"St. Isaac's Cathedral State Museum-Memorial\", 'tripAdvisor_rating': 4.5, 'tripAdvisor_reviewsNumber': 8889.0, 'wikipedia_page': 1, 'wikipedia_title': 'Исаакиевский собор', 'x': 3373674.0914638313, 'y': 8385076.128764131}\n",
      "{'additional_categories': None, 'address': 'Razvodnaya St., 2, Peterhof, St. Petersburg 198516, Russia', 'categories': ['Museums & Libraries', 'Sights & Landmarks'], 'city_brand': [], 'duration': 120, 'facebook_checkins': None, 'facebook_rating': None, 'foursquare_checkinsCount': None, 'foursquare_rating': None, 'foursquare_ratingVotes': None, 'foursquare_userCount': None, 'image': None, 'instagram_title': None, 'instagram_visitorsNumber': None, 'lat': 59.8851, 'lng': 29.909107, 'open_hours': {'4': [900, 1900], '6': [900, 1900], '5': [900, 2200]}, 'title': 'Peterhof Grand Palace', 'tripAdvisor_rating': 4.5, 'tripAdvisor_reviewsNumber': 8988.0, 'wikipedia_page': 0, 'wikipedia_title': None, 'x': 3329466.561321534, 'y': 8374200.978385705}\n",
      "{'additional_categories': ['Monument'], 'address': 'Yakornaya sq, 1, Kronshtadt, St. Petersburg 197762, Russia', 'categories': ['Sights & Landmarks'], 'city_brand': ['Russian Empire', 'Venice of the North'], 'duration': 15, 'facebook_checkins': 1306.0, 'facebook_rating': 8.0, 'foursquare_checkinsCount': None, 'foursquare_rating': None, 'foursquare_ratingVotes': None, 'foursquare_userCount': None, 'image': 'https://commons.wikimedia.org/wiki/File:Naval_Cathedral_of_St_Nicholas_in_Kronstadt_01.jpg', 'instagram_title': None, 'instagram_visitorsNumber': 14151.0, 'lat': 59.991943, 'lng': 29.776682, 'open_hours': {'0': [1000, 1900], '1': [1000, 1900], '2': [1000, 1900], '3': [1000, 1900], '4': [1000, 1900], '5': [1000, 1900], '6': [1000, 1900]}, 'title': 'The Naval Cathedral of Saint Nicholas in Kronstadt', 'tripAdvisor_rating': 5.0, 'tripAdvisor_reviewsNumber': 2129.0, 'wikipedia_page': 1, 'wikipedia_title': 'Морской Никольский собор (Кронштадт)', 'x': 3314725.0777532337, 'y': 8397944.305954296}\n",
      "{'additional_categories': None, 'address': 'St. Petersburg, Russia', 'categories': ['Nature & Parks'], 'city_brand': ['Venice of the North'], 'duration': 30, 'facebook_checkins': None, 'facebook_rating': None, 'foursquare_checkinsCount': None, 'foursquare_rating': None, 'foursquare_ratingVotes': None, 'foursquare_userCount': None, 'image': 'https://commons.wikimedia.org/wiki/File:Flag_of_Kronshtadt_(St_Petersburg).png', 'instagram_title': None, 'instagram_visitorsNumber': None, 'lat': 59.991913, 'lng': 29.774984, 'open_hours': None, 'title': 'Kronstadt', 'tripAdvisor_rating': 4.5, 'tripAdvisor_reviewsNumber': 312.0, 'wikipedia_page': 1, 'wikipedia_title': 'Кронштадт', 'x': 3314536.057257867, 'y': 8397937.628414208}\n",
      "{'additional_categories': ['Civilization Museum'], 'address': 'Bldg. A Dvortsovyy pr-kt 48, Lomonosov, St. Petersburg 198412, Russia', 'categories': ['Museums & Libraries'], 'city_brand': ['Venice of the North'], 'duration': 120, 'facebook_checkins': 776.0, 'facebook_rating': 0.0, 'foursquare_checkinsCount': None, 'foursquare_rating': None, 'foursquare_ratingVotes': None, 'foursquare_userCount': None, 'image': 'https://commons.wikimedia.org/wiki/File:Menshikov_palace_Oranienbaum.JPG', 'instagram_title': None, 'instagram_visitorsNumber': 4908.0, 'lat': 59.91558, 'lng': 29.75957, 'open_hours': None, 'title': 'Oranienbaum State Museum Reserve', 'tripAdvisor_rating': 4.5, 'tripAdvisor_reviewsNumber': 371.0, 'wikipedia_page': 1, 'wikipedia_title': 'Ораниенбаум (дворцово-парковый ансамбль)', 'x': 3312820.1786267813, 'y': 8380966.642289783}\n",
      "{'additional_categories': None, 'address': 'Primorskoye Highway, 536, Zelenogorsk, St. Petersburg 197720, Russia', 'categories': ['Nature & Parks'], 'city_brand': [], 'duration': 30, 'facebook_checkins': None, 'facebook_rating': None, 'foursquare_checkinsCount': None, 'foursquare_rating': None, 'foursquare_ratingVotes': None, 'foursquare_userCount': None, 'image': None, 'instagram_title': None, 'instagram_visitorsNumber': None, 'lat': 60.1918, 'lng': 29.69971, 'open_hours': None, 'title': 'Zelenogorsk Recreation Park', 'tripAdvisor_rating': 4.5, 'tripAdvisor_reviewsNumber': 103.0, 'wikipedia_page': 0, 'wikipedia_title': None, 'x': 3306156.593907896, 'y': 8442564.403377555}\n",
      "{'additional_categories': ['Local Business'], 'address': 'Lenin ave, 13A, Zelenogorsk, St. Petersburg 197720, Russia', 'categories': ['Others', 'Sights & Landmarks'], 'city_brand': [], 'duration': 15, 'facebook_checkins': 30.0, 'facebook_rating': 0.0, 'foursquare_checkinsCount': None, 'foursquare_rating': None, 'foursquare_ratingVotes': None, 'foursquare_userCount': None, 'image': 'https://commons.wikimedia.org/wiki/File:Zelenogorsk_(Saint_Petersburg)._Lyuterantskaya_Church.JPG', 'instagram_title': None, 'instagram_visitorsNumber': 46.0, 'lat': 60.19627, 'lng': 29.70608, 'open_hours': None, 'title': 'Lutheran Church of the Transfiguration', 'tripAdvisor_rating': 4.5, 'tripAdvisor_reviewsNumber': 37.0, 'wikipedia_page': 1, 'wikipedia_title': 'Лютеранская церковь в Зеленогорске', 'x': 3306865.6990642487, 'y': 8443565.477331785}\n",
      "{'additional_categories': None, 'address': 'Primorskoe shosse, d. 536, Zelenogorsk, St. Petersburg 197720, Russia', 'categories': ['Museums & Libraries'], 'city_brand': [], 'duration': 120, 'facebook_checkins': None, 'facebook_rating': None, 'foursquare_checkinsCount': None, 'foursquare_rating': None, 'foursquare_ratingVotes': None, 'foursquare_userCount': None, 'image': None, 'instagram_title': None, 'instagram_visitorsNumber': None, 'lat': 60.19353, 'lng': 29.67109, 'open_hours': None, 'title': 'Antique Cars Museum', 'tripAdvisor_rating': 4.0, 'tripAdvisor_reviewsNumber': 49.0, 'wikipedia_page': 0, 'wikipedia_title': None, 'x': 3302970.630081391, 'y': 8442951.827460853}\n",
      "{'additional_categories': None, 'address': 'Molodezhnoye, St. Petersburg, Russia', 'categories': ['Nature & Parks'], 'city_brand': [], 'duration': 30, 'facebook_checkins': None, 'facebook_rating': None, 'foursquare_checkinsCount': None, 'foursquare_rating': None, 'foursquare_ratingVotes': None, 'foursquare_userCount': None, 'image': None, 'instagram_title': None, 'instagram_visitorsNumber': None, 'lat': 60.20446, 'lng': 29.52578, 'open_hours': None, 'title': 'Historical Park Marina Gora', 'tripAdvisor_rating': 4.5, 'tripAdvisor_reviewsNumber': 6.0, 'wikipedia_page': 0, 'wikipedia_title': None, 'x': 3286794.794874221, 'y': 8445400.01364162}\n"
     ]
    },
    {
     "name": "stdout",
     "output_type": "stream",
     "text": [
      "{'additional_categories': ['Restaurant'], 'address': 'Chance Primorskoe sh 704 | Resort Vostok-6, Smolyachkovo, St. Petersburg 197729, Russia ', 'categories': ['Restaurant'], 'city_brand': [], 'duration': 60, 'facebook_checkins': None, 'facebook_rating': None, 'foursquare_checkinsCount': None, 'foursquare_rating': None, 'foursquare_ratingVotes': None, 'foursquare_userCount': None, 'image': None, 'instagram_title': None, 'instagram_visitorsNumber': None, 'lat': 60.17936, 'lng': 29.45013, 'open_hours': None, 'title': 'Chance', 'tripAdvisor_rating': 0.0, 'tripAdvisor_reviewsNumber': 0.0, 'wikipedia_page': 0, 'wikipedia_title': None, 'x': 3278373.47539571, 'y': 8439779.134238554}\n",
      "{'additional_categories': ['Pedestrian Plaza'], 'address': 'Россия', 'categories': ['Sights & Landmarks'], 'city_brand': [], 'duration': 15, 'facebook_checkins': None, 'facebook_rating': None, 'foursquare_checkinsCount': 1.0, 'foursquare_rating': None, 'foursquare_ratingVotes': None, 'foursquare_userCount': 1.0, 'image': None, 'instagram_title': None, 'instagram_visitorsNumber': None, 'lat': 60.237714, 'lng': 29.425322, 'open_hours': None, 'title': 'грибное место', 'tripAdvisor_rating': None, 'tripAdvisor_reviewsNumber': None, 'wikipedia_page': 0, 'wikipedia_title': None, 'x': 3275611.8614681107, 'y': 8452853.521645097}\n",
      "{'additional_categories': ['Bridge'], 'address': 'Россия', 'categories': ['Sights & Landmarks'], 'city_brand': [], 'duration': 15, 'facebook_checkins': None, 'facebook_rating': None, 'foursquare_checkinsCount': 5.0, 'foursquare_rating': None, 'foursquare_ratingVotes': None, 'foursquare_userCount': 5.0, 'image': None, 'instagram_title': None, 'instagram_visitorsNumber': None, 'lat': 60.256882, 'lng': 29.389142, 'open_hours': None, 'title': 'Заброшенный мост', 'tripAdvisor_rating': None, 'tripAdvisor_reviewsNumber': None, 'wikipedia_page': 0, 'wikipedia_title': None, 'x': 3271584.322291209, 'y': 8457153.249711942}\n",
      "{'additional_categories': ['Memorial Site'], 'address': 'Россия', 'categories': ['Sights & Landmarks'], 'city_brand': [], 'duration': 15, 'facebook_checkins': None, 'facebook_rating': None, 'foursquare_checkinsCount': 0.0, 'foursquare_rating': None, 'foursquare_ratingVotes': None, 'foursquare_userCount': 0.0, 'image': None, 'instagram_title': None, 'instagram_visitorsNumber': None, 'lat': 59.54997, 'lng': 29.484905, 'open_hours': None, 'title': 'Обелиск 51 минно-торпедному Таллинскому авиаполку В.В.С', 'tripAdvisor_rating': None, 'tripAdvisor_reviewsNumber': None, 'wikipedia_page': 0, 'wikipedia_title': None, 'x': 3282244.610688046, 'y': 8300218.078277602}\n",
      "{'additional_categories': ['History Museum', 'Landmark & Historical Place'], 'address': \"Saporoshje, Zaporiz'Ka Oblast', Ukraine\", 'categories': ['Museums & Libraries'], 'city_brand': [], 'duration': 120, 'facebook_checkins': 83.0, 'facebook_rating': 0.0, 'foursquare_checkinsCount': None, 'foursquare_rating': None, 'foursquare_ratingVotes': None, 'foursquare_userCount': None, 'image': 'https://scontent.xx.fbcdn.net/v/t1.0-1/c15.0.50.50/p50x50/418333_10149999285994467_1920585607_n.png?oh=67e28e9f05f8212e2b03d4163425c337&oe=5B1F3D04', 'instagram_title': 'Lahij Museum of Local History', 'instagram_visitorsNumber': 345.0, 'lat': 40.8452, 'lng': 48.3832, 'open_hours': None, 'title': 'Lahij Museum of Local History', 'tripAdvisor_rating': None, 'tripAdvisor_reviewsNumber': None, 'wikipedia_page': 0, 'wikipedia_title': None, 'x': 5385993.186949113, 'y': 4989535.4424744975}\n",
      "{'additional_categories': ['European Restaurant', 'Cafe', 'Crêperie'], 'address': '\\u200eخلف مطاعم ابو محمود - مقابل مطعم  خان زيد\\u200e, Irbid 21110', 'categories': ['Restaurant'], 'city_brand': [], 'duration': 60, 'facebook_checkins': 2420.0, 'facebook_rating': 214.0, 'foursquare_checkinsCount': None, 'foursquare_rating': None, 'foursquare_ratingVotes': None, 'foursquare_userCount': None, 'image': 'https://scontent.xx.fbcdn.net/v/t1.0-1/p50x50/12439203_1116043941740758_6782628662288891288_n.jpg?oh=ccbafb19d57fc8cf460adfc5f6685642&oe=5AD91B5C', 'instagram_title': 'WakeCup', 'instagram_visitorsNumber': 1196.0, 'lat': 32.5369026118, 'lng': 35.8508168759, 'open_hours': {'0': [800, 2530], '1': [800, 2530], '2': [800, 2530], '3': [800, 2530], '4': [1100, 2530], '5': [800, 2530], '6': [800, 2530]}, 'title': 'WakeCup', 'tripAdvisor_rating': None, 'tripAdvisor_reviewsNumber': None, 'wikipedia_page': 0, 'wikipedia_title': None, 'x': 3990894.6791465296, 'y': 3833995.623762593}\n",
      "{'additional_categories': ['Restaurant', 'Coffee Shop'], 'address': 'Mandalay, 196625', 'categories': ['Restaurant'], 'city_brand': [], 'duration': 60, 'facebook_checkins': 1195.0, 'facebook_rating': 12.0, 'foursquare_checkinsCount': None, 'foursquare_rating': None, 'foursquare_ratingVotes': None, 'foursquare_userCount': None, 'image': 'https://scontent.xx.fbcdn.net/v/t1.0-1/p50x50/11037811_10207082971583406_7594060716366297839_n.jpg?oh=7f36a5051ceb4576b106e4b517b3b61e&oe=5B113108', 'instagram_title': 'UNO Cafe at Sedona Hotel', 'instagram_visitorsNumber': 67.0, 'lat': 21.9815377633, 'lng': 96.1060922863, 'open_hours': {'0': [900, 1900], '1': [900, 1900], '2': [900, 1700], '3': [900, 1700], '4': [900, 1700], '5': [900, 1700], '6': [900, 1700]}, 'title': 'UNO Cafe at Sedona Hotel', 'tripAdvisor_rating': None, 'tripAdvisor_reviewsNumber': None, 'wikipedia_page': 0, 'wikipedia_title': None, 'x': 10698481.25543671, 'y': 2509308.767162409}\n",
      "{'additional_categories': ['Pub'], 'address': '87, Bangkok, Thailand 10210', 'categories': ['Restaurant'], 'city_brand': [], 'duration': 60, 'facebook_checkins': 856.0, 'facebook_rating': 13.0, 'foursquare_checkinsCount': None, 'foursquare_rating': None, 'foursquare_ratingVotes': None, 'foursquare_userCount': None, 'image': 'https://scontent.xx.fbcdn.net/v/t1.0-1/c8.0.50.50/p50x50/1546062_605502969503573_1680320998_n.jpg?oh=6a597337839db1c1ed52a4406b2874e4&oe=5B213627', 'instagram_title': 'Esy Pub Pegasus', 'instagram_visitorsNumber': 21.0, 'lat': 13.9248462048, 'lng': 100.5863571188, 'open_hours': None, 'title': 'Esy Pub Pegasus', 'tripAdvisor_rating': None, 'tripAdvisor_reviewsNumber': None, 'wikipedia_page': 0, 'wikipedia_title': None, 'x': 11197222.055218527, 'y': 1565595.7569249757}\n",
      "{'additional_categories': ['Religious Center', 'Catholic Church'], 'address': None, 'categories': ['Sights & Landmarks'], 'city_brand': [], 'duration': 15, 'facebook_checkins': 2239.0, 'facebook_rating': 3.0, 'foursquare_checkinsCount': None, 'foursquare_rating': None, 'foursquare_ratingVotes': None, 'foursquare_userCount': None, 'image': 'https://scontent.xx.fbcdn.net/v/t1.0-1/c15.0.50.50/p50x50/418333_10149999285994467_1920585607_n.png?oh=67e28e9f05f8212e2b03d4163425c337&oe=5B1F3D04', 'instagram_title': 'Antigua Guatemala Cathedral', 'instagram_visitorsNumber': 4116.0, 'lat': 14.556733, 'lng': -90.73292, 'open_hours': None, 'title': 'Antigua Guatemala Cathedral', 'tripAdvisor_rating': None, 'tripAdvisor_reviewsNumber': None, 'wikipedia_page': 0, 'wikipedia_title': None, 'x': -10100342.452586828, 'y': 1638167.57366729}\n",
      "{'additional_categories': ['Italian Restaurant', 'Breakfast & Brunch Restaurant'], 'address': '15 Victoria Ave, Broadbeach, Queensland, Australia 4218', 'categories': ['Restaurant'], 'city_brand': [], 'duration': 60, 'facebook_checkins': 1070.0, 'facebook_rating': 2.0, 'foursquare_checkinsCount': None, 'foursquare_rating': None, 'foursquare_ratingVotes': None, 'foursquare_userCount': None, 'image': 'https://scontent.xx.fbcdn.net/v/t1.0-1/c62.4.56.56/s50x50/1926890_710040135684076_1240689648_n.jpg?oh=8f7c04849207d3c9f77752db084da450&oe=5B26114F', 'instagram_title': 'Mama Roma Italian Restaurant', 'instagram_visitorsNumber': 242.0, 'lat': -28.02871, 'lng': 153.43254, 'open_hours': None, 'title': 'Mama Roma Italian Restaurant', 'tripAdvisor_rating': None, 'tripAdvisor_reviewsNumber': None, 'wikipedia_page': 0, 'wikipedia_title': None, 'x': 17080032.223918576, 'y': -3252593.9462384516}\n",
      "Radius of interest for Saint-Petersburg:  14490.215949705485\n",
      "Radius of interest for Moscow:  9988.147268034405\n"
     ]
    }
   ],
   "source": [
    "\"\"\"Finds distance between city centers (spb, msk) and\"\"\"\n",
    "\"\"\"the most remote place in FIFA (ITMO) dataset\"\"\"\n",
    "\n",
    "\n",
    "import json\n",
    "from json import JSONDecodeError\n",
    "from geopy import distance\n",
    "\n",
    "\n",
    "\"\"\"Check if object is located within location radius\"\"\"\n",
    "\"\"\"type(obj) == 'dict',  coordinates in field: \"coords\")\"\"\"\n",
    "def dist_between(obj_1, obj_2):\n",
    "    geopoint_1 = (obj_1[\"lat\"], obj_1[\"lng\"])\n",
    "    geopoint_2 = (obj_2[\"lat\"], obj_2[\"lng\"])\n",
    "    dist = distance.distance(geopoint_1,\n",
    "                             geopoint_2).km\n",
    "    return dist\n",
    "\n",
    "spb_center = {\"lat\": 59.9342802, \"lng\": 30.3350986}\n",
    "msk_center = {\"lat\": 55.7522200, \"lng\": 37.6155600}\n",
    "\n",
    "\"\"\"In / out directorires:\"\"\"\n",
    "in_dir = \"D:/Work/Data_files/FIFA_dataset/\"\n",
    "in_file_1 = \"Saint+Petersburg-finalized\"\n",
    "in_file_2 = \"Moscow-finalized\"\n",
    "\n",
    "\n",
    "with open(in_dir + in_file_1 + \".json\",\n",
    "           'r', encoding = \"utf-8\") as inf_1, \\\n",
    "     open(in_dir + in_file_2 + \".json\",\n",
    "           'r', encoding = \"utf-8\") as inf_2:\n",
    "    try:\n",
    "        places = json.load(inf_1)\n",
    "        max_dist = 0\n",
    "        for place in places:\n",
    "            dist = dist_between(spb_center, place)\n",
    "            if dist > max_dist:\n",
    "                max_dist = dist\n",
    "                print(place)\n",
    "        print(\"Radius of interest for Saint-Petersburg: \",\n",
    "             max_dist)\n",
    "        places = json.load(inf_2)\n",
    "        max_dist = 0\n",
    "        for place in places:\n",
    "            dist = dist_between(msk_center, place)\n",
    "            if dist > max_dist:\n",
    "                max_dist = dist\n",
    "        print(\"Radius of interest for Moscow: \",\n",
    "             max_dist)\n",
    "    except JSONDecodeError:\n",
    "        print(\"Input file cannot be read\")\n"
   ]
  },
  {
   "cell_type": "code",
   "execution_count": null,
   "metadata": {},
   "outputs": [],
   "source": []
  }
 ],
 "metadata": {
  "kernelspec": {
   "display_name": "Python 3",
   "language": "python",
   "name": "python3"
  },
  "language_info": {
   "codemirror_mode": {
    "name": "ipython",
    "version": 3
   },
   "file_extension": ".py",
   "mimetype": "text/x-python",
   "name": "python",
   "nbconvert_exporter": "python",
   "pygments_lexer": "ipython3",
   "version": "3.7.1"
  }
 },
 "nbformat": 4,
 "nbformat_minor": 4
}
